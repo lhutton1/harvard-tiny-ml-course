{
 "cells": [
  {
   "cell_type": "markdown",
   "id": "11d6b91f",
   "metadata": {},
   "source": [
    "# TensorFlow Lite Flatbuffer Manipulation Example\n",
    "\n",
    "This notebook looks at how TFLite flatbuffers can be read, modified and written."
   ]
  },
  {
   "cell_type": "code",
   "execution_count": 13,
   "id": "7381033f",
   "metadata": {},
   "outputs": [],
   "source": [
    "import flatbuffers"
   ]
  },
  {
   "cell_type": "markdown",
   "id": "f5c1dfcf",
   "metadata": {},
   "source": [
    "## Install flatc compiler\n",
    "\n",
    "The flatc compiler converts model format stored in a text schema to Python accessor classes. This isn't available for download, so it needs to be built from source. The version must match the flatbuffer library on the system, in this notebook we use flatbuffers 1.12.0."
   ]
  },
  {
   "cell_type": "code",
   "execution_count": 1,
   "id": "08ea24ad",
   "metadata": {},
   "outputs": [
    {
     "name": "stdout",
     "output_type": "stream",
     "text": [
      "  % Total    % Received % Xferd  Average Speed   Time    Time     Time  Current\n",
      "                                 Dload  Upload   Total   Spent    Left  Speed\n",
      "100   124  100   124    0     0    252      0 --:--:-- --:--:-- --:--:--   252\n",
      "100 1463k    0 1463k    0     0  1062k      0 --:--:--  0:00:01 --:--:-- 2616k\n",
      "/Users/lukehutton/Library/Mobile Documents/com~apple~CloudDocs/University/Harvard Tiny ML/deployment/flatbuffers\n",
      "\u001b[33mCMake Warning:\n",
      "  No source or binary directory provided.  Both will be assumed to be the\n",
      "  same as the current working directory, but note that this warning will\n",
      "  become a fatal error in future CMake releases.\n",
      "\n",
      "\u001b[0m\n",
      "-- The C compiler identification is AppleClang 13.0.0.13000029\n",
      "-- The CXX compiler identification is AppleClang 13.0.0.13000029\n",
      "-- Detecting C compiler ABI info\n",
      "-- Detecting C compiler ABI info - done\n",
      "-- Check for working C compiler: /Library/Developer/CommandLineTools/usr/bin/cc - skipped\n",
      "-- Detecting C compile features\n",
      "-- Detecting C compile features - done\n",
      "-- Detecting CXX compiler ABI info\n",
      "-- Detecting CXX compiler ABI info - done\n",
      "-- Check for working CXX compiler: /Library/Developer/CommandLineTools/usr/bin/c++ - skipped\n",
      "-- Detecting CXX compile features\n",
      "-- Detecting CXX compile features - done\n",
      "-- Looking for strtof_l\n",
      "-- Looking for strtof_l - not found\n",
      "-- Looking for strtoull_l\n",
      "-- Looking for strtoull_l - not found\n",
      "fatal: No names found, cannot describe anything.\n",
      "-- Configuring done\n",
      "-- Generating done\n",
      "-- Build files have been written to: /Users/lukehutton/Library/Mobile Documents/com~apple~CloudDocs/University/Harvard Tiny ML/deployment/flatbuffers\n",
      "[  2%] \u001b[32mBuilding CXX object CMakeFiles/flatbuffers.dir/src/idl_parser.cpp.o\u001b[0m\n",
      "[  8%] \u001b[32mBuilding CXX object CMakeFiles/flathash.dir/src/flathash.cpp.o\u001b[0m\n",
      "[  8%] \u001b[32mBuilding CXX object CMakeFiles/flatbuffers.dir/src/idl_gen_text.cpp.o\u001b[0m\n",
      "[ 11%] \u001b[32mBuilding CXX object CMakeFiles/flatbuffers.dir/src/reflection.cpp.o\u001b[0m\n",
      "[ 13%] \u001b[32mBuilding CXX object CMakeFiles/flatc.dir/src/idl_parser.cpp.o\u001b[0m\n",
      "[ 16%] \u001b[32mBuilding CXX object CMakeFiles/flatbuffers.dir/src/util.cpp.o\u001b[0m\n",
      "[ 19%] \u001b[32mBuilding CXX object CMakeFiles/flatc.dir/src/idl_gen_text.cpp.o\u001b[0m\n",
      "[ 22%] \u001b[32mBuilding CXX object CMakeFiles/flatc.dir/src/reflection.cpp.o\u001b[0m\n",
      "[ 25%] \u001b[32m\u001b[1mLinking CXX executable flathash\u001b[0m\n",
      "[ 25%] Built target flathash\n",
      "[ 27%] \u001b[32mBuilding CXX object CMakeFiles/flatc.dir/src/util.cpp.o\u001b[0m\n",
      "[ 30%] \u001b[32mBuilding CXX object CMakeFiles/flatc.dir/src/idl_gen_cpp.cpp.o\u001b[0m\n",
      "[ 33%] \u001b[32mBuilding CXX object CMakeFiles/flatc.dir/src/idl_gen_csharp.cpp.o\u001b[0m\n",
      "[ 36%] \u001b[32mBuilding CXX object CMakeFiles/flatc.dir/src/idl_gen_dart.cpp.o\u001b[0m\n",
      "[ 38%] \u001b[32mBuilding CXX object CMakeFiles/flatc.dir/src/idl_gen_kotlin.cpp.o\u001b[0m\n",
      "[ 41%] \u001b[32mBuilding CXX object CMakeFiles/flatc.dir/src/idl_gen_go.cpp.o\u001b[0m\n",
      "[ 44%] \u001b[32mBuilding CXX object CMakeFiles/flatc.dir/src/idl_gen_java.cpp.o\u001b[0m\n",
      "[ 47%] \u001b[32mBuilding CXX object CMakeFiles/flatc.dir/src/idl_gen_js_ts.cpp.o\u001b[0m\n",
      "[ 50%] \u001b[32mBuilding CXX object CMakeFiles/flatc.dir/src/idl_gen_php.cpp.o\u001b[0m\n",
      "[ 52%] \u001b[32mBuilding CXX object CMakeFiles/flatc.dir/src/idl_gen_python.cpp.o\u001b[0m\n",
      "[ 55%] \u001b[32mBuilding CXX object CMakeFiles/flatc.dir/src/idl_gen_lobster.cpp.o\u001b[0m\n",
      "[ 58%] \u001b[32mBuilding CXX object CMakeFiles/flatc.dir/src/idl_gen_lua.cpp.o\u001b[0m\n",
      "[ 61%] \u001b[32mBuilding CXX object CMakeFiles/flatc.dir/src/idl_gen_rust.cpp.o\u001b[0m\n",
      "[ 63%] \u001b[32mBuilding CXX object CMakeFiles/flatc.dir/src/idl_gen_fbs.cpp.o\u001b[0m\n",
      "[ 66%] \u001b[32mBuilding CXX object CMakeFiles/flatc.dir/src/idl_gen_grpc.cpp.o\u001b[0m\n",
      "[ 69%] \u001b[32mBuilding CXX object CMakeFiles/flatc.dir/src/idl_gen_json_schema.cpp.o\u001b[0m\n",
      "[ 72%] \u001b[32mBuilding CXX object CMakeFiles/flatc.dir/src/idl_gen_swift.cpp.o\u001b[0m\n",
      "[ 75%] \u001b[32mBuilding CXX object CMakeFiles/flatc.dir/src/flatc.cpp.o\u001b[0m\n",
      "[ 77%] \u001b[32mBuilding CXX object CMakeFiles/flatc.dir/src/flatc_main.cpp.o\u001b[0m\n",
      "[ 80%] \u001b[32mBuilding CXX object CMakeFiles/flatc.dir/src/code_generators.cpp.o\u001b[0m\n",
      "[ 83%] \u001b[32mBuilding CXX object CMakeFiles/flatc.dir/grpc/src/compiler/cpp_generator.cc.o\u001b[0m\n",
      "[ 86%] \u001b[32mBuilding CXX object CMakeFiles/flatc.dir/grpc/src/compiler/go_generator.cc.o\u001b[0m\n",
      "[ 88%] \u001b[32mBuilding CXX object CMakeFiles/flatc.dir/grpc/src/compiler/java_generator.cc.o\u001b[0m\n",
      "[ 91%] \u001b[32m\u001b[1mLinking CXX static library libflatbuffers.a\u001b[0m\n",
      "[ 91%] Built target flatbuffers\n",
      "[ 94%] \u001b[32mBuilding CXX object CMakeFiles/flatc.dir/grpc/src/compiler/python_generator.cc.o\u001b[0m\n",
      "[ 97%] \u001b[32mBuilding CXX object CMakeFiles/flatc.dir/grpc/src/compiler/swift_generator.cc.o\u001b[0m\n",
      "[100%] \u001b[32m\u001b[1mLinking CXX executable flatc\u001b[0m\n",
      "[100%] Built target flatc\n",
      "/Users/lukehutton/Library/Mobile Documents/com~apple~CloudDocs/University/Harvard Tiny ML/deployment\n"
     ]
    }
   ],
   "source": [
    "!curl -L \"https://github.com/google/flatbuffers/archive/v1.12.0.zip\" -o flatbuffers.zip\n",
    "!unzip -q flatbuffers.zip\n",
    "!mv flatbuffers-1.12.0 flatbuffers\n",
    "%cd flatbuffers\n",
    "!cmake -G \"Unix Makefiles\" -DCMAKE_BUILD_TYPE=Release -DFLATBUFFERS_BUILD_TESTS=OFF\n",
    "!make -j 8\n",
    "!cp flatc /usr/local/bin/\n",
    "%cd .."
   ]
  },
  {
   "cell_type": "markdown",
   "id": "5d82abcd",
   "metadata": {},
   "source": [
    "## Generate Python Accessor Classes\n",
    "\n",
    "Using the text schema, flatc created python code to read and write the data held inside a serialized Flatbuffer file."
   ]
  },
  {
   "cell_type": "code",
   "execution_count": 5,
   "id": "c8f5d676",
   "metadata": {},
   "outputs": [
    {
     "name": "stdout",
     "output_type": "stream",
     "text": [
      "--2021-10-02 12:28:03--  https://raw.githubusercontent.com/tensorflow/tensorflow/master/tensorflow/lite/schema/schema_v3.fbs\n",
      "Resolving raw.githubusercontent.com (raw.githubusercontent.com)... 185.199.110.133, 185.199.109.133, 185.199.108.133, ...\n",
      "Connecting to raw.githubusercontent.com (raw.githubusercontent.com)|185.199.110.133|:443... connected.\n",
      "HTTP request sent, awaiting response... 200 OK\n",
      "Length: 8002 (7.8K) [text/plain]\n",
      "Saving to: ‘schema_v3.fbs’\n",
      "\n",
      "schema_v3.fbs       100%[===================>]   7.81K  --.-KB/s    in 0.001s  \n",
      "\n",
      "2021-10-02 12:28:04 (6.38 MB/s) - ‘schema_v3.fbs’ saved [8002/8002]\n",
      "\n"
     ]
    }
   ],
   "source": [
    "!wget -nc https://raw.githubusercontent.com/tensorflow/tensorflow/master/tensorflow/lite/schema/schema_v3.fbs\n",
    "!flatc --python --gen-object-api schema_v3.fbs"
   ]
  },
  {
   "cell_type": "markdown",
   "id": "db1ff20e",
   "metadata": {},
   "source": [
    "## Save and load model\n",
    "\n",
    "Demonstrates how to load data from a file and turn it into a `Model` python object. This can then be saved back to a file."
   ]
  },
  {
   "cell_type": "code",
   "execution_count": 9,
   "id": "f28ca8cb",
   "metadata": {},
   "outputs": [],
   "source": [
    "import sys\n",
    "sys.path.append('tflite')\n",
    "import Model\n",
    "\n",
    "def load_model_from_file(model_filename):\n",
    "    with open(model_filename, \"rb\") as file:\n",
    "        buffer_data = file.read()\n",
    "    model_obj = Model.Model.GetRootAsModel(buffer_data, 0)\n",
    "    model = Model.ModelT.InitFromObj(model_obj)\n",
    "    return model\n",
    "\n",
    "def save_model_to_file(model, model_filename):\n",
    "    builder = flatbuffers.Builder(1024)\n",
    "    model_offset = model.Pack(builder)\n",
    "    builder.Finish(model_offset, file_identifier=b'TFL3')\n",
    "    model_data = builder.Output()\n",
    "    with open(model_filename, 'wb') as out_file:\n",
    "        out_file.write(model_data)"
   ]
  },
  {
   "cell_type": "markdown",
   "id": "5cfe65ca",
   "metadata": {},
   "source": [
    "## Download example model\n",
    "In order to test the Flatbuffer loading code."
   ]
  },
  {
   "cell_type": "code",
   "execution_count": 10,
   "id": "54317090",
   "metadata": {},
   "outputs": [
    {
     "name": "stdout",
     "output_type": "stream",
     "text": [
      "  % Total    % Received % Xferd  Average Speed   Time    Time     Time  Current\n",
      "                                 Dload  Upload   Total   Spent    Left  Speed\n",
      "100 78855  100 78855    0     0   316k      0 --:--:-- --:--:-- --:--:--  315k\n",
      "Archive:  speech_commands_model_2020_04_27.zip\n",
      "replace speech_commands_model/speech_commands_model_float.tflite? [y]es, [n]o, [A]ll, [N]one, [r]ename: ^C\n"
     ]
    }
   ],
   "source": [
    "!curl -O 'https://storage.googleapis.com/download.tensorflow.org/models/tflite/micro/speech_commands_model_2020_04_27.zip'\n",
    "!unzip speech_commands_model_2020_04_27.zip"
   ]
  },
  {
   "cell_type": "markdown",
   "id": "62349d66",
   "metadata": {},
   "source": [
    "## Load, modify and save model\n",
    "\n",
    "Loads a float model, applies a change to the float weights and saves the model again."
   ]
  },
  {
   "cell_type": "code",
   "execution_count": 14,
   "id": "ed1e9f2c",
   "metadata": {},
   "outputs": [],
   "source": [
    "import numpy as np\n",
    "\n",
    "model = load_model_from_file('speech_commands_model/speech_commands_model_float.tflite')\n",
    "for buffer in model.buffers:\n",
    "    if buffer.data is not None and len(buffer.data) > 1024:\n",
    "        original_weights = np.frombuffer(buffer.data, dtype=np.float32)\n",
    "        altered_weights = np.round(original_weights * (1/0.02)) * 0.02\n",
    "        buffer.data = altered_weights.tobytes()\n",
    "save_model_to_file(model, 'speech_commands_model/speech_commands_model_modified.tflite')"
   ]
  },
  {
   "cell_type": "markdown",
   "id": "2469354e",
   "metadata": {},
   "source": [
    "## Evaluating the impact of those changes\n",
    "\n",
    "To evaluate the impact of the changes, a test data set needs to be downloaded and some utility classes to read and convert the training data need to be created."
   ]
  },
  {
   "cell_type": "code",
   "execution_count": null,
   "id": "df9f67ab",
   "metadata": {},
   "outputs": [],
   "source": [
    "sys.path.append('')"
   ]
  }
 ],
 "metadata": {
  "kernelspec": {
   "display_name": "Python 3 (ipykernel)",
   "language": "python",
   "name": "python3"
  },
  "language_info": {
   "codemirror_mode": {
    "name": "ipython",
    "version": 3
   },
   "file_extension": ".py",
   "mimetype": "text/x-python",
   "name": "python",
   "nbconvert_exporter": "python",
   "pygments_lexer": "ipython3",
   "version": "3.9.6"
  }
 },
 "nbformat": 4,
 "nbformat_minor": 5
}
