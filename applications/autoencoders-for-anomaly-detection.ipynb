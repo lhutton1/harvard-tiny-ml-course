{
 "cells": [
  {
   "cell_type": "markdown",
   "id": "9f273591",
   "metadata": {},
   "source": [
    "# Autoencoders for anomaly detection\n",
    "\n",
    "An autoencoder is trained to detect anomalies on the ECG5000 dataset. This contains 5, 000 electrocardiograms, each with 140 data points. Each example is labeled with either 0 (an abnormal rhythm), or 1 (a normal rhythm).\n",
    "\n",
    "While this problem could be tackled in a supervised manner (because it is labeled), the goal of this example is to illustrate anomaly detection on larger unlabeled datasets.\n",
    "\n",
    "An autoencoder is designed to minimise reconsruction error. Therefore, an autoencoder is trained on normal rhythms only and then used to reconstruct these rhythms. When an abnormal rhythm is given to the autoencoder, it is expected the autoencoder will have a higher reconstruction error. This rhythm can then be classified as an anomaly."
   ]
  },
  {
   "cell_type": "code",
   "execution_count": 29,
   "id": "4ab149a2",
   "metadata": {},
   "outputs": [],
   "source": [
    "import matplotlib.pyplot as plt\n",
    "import numpy as np\n",
    "import pandas as pd\n",
    "import tensorflow as tf\n",
    "\n",
    "from sklearn.metrics import accuracy_score, precision_score, recall_score, roc_curve, auc\n",
    "from sklearn.model_selection import train_test_split\n",
    "from tensorflow.keras import layers, losses\n",
    "from tensorflow.keras.models import Model"
   ]
  },
  {
   "cell_type": "markdown",
   "id": "a4debcd9",
   "metadata": {},
   "source": [
    "## Load ECG data\n",
    "\n",
    "This dataset is based on [timeseriesclassification.com](https://timeseriesclassification.com)"
   ]
  },
  {
   "cell_type": "code",
   "execution_count": 30,
   "id": "b5737a2b",
   "metadata": {},
   "outputs": [
    {
     "data": {
      "text/html": [
       "<div>\n",
       "<style scoped>\n",
       "    .dataframe tbody tr th:only-of-type {\n",
       "        vertical-align: middle;\n",
       "    }\n",
       "\n",
       "    .dataframe tbody tr th {\n",
       "        vertical-align: top;\n",
       "    }\n",
       "\n",
       "    .dataframe thead th {\n",
       "        text-align: right;\n",
       "    }\n",
       "</style>\n",
       "<table border=\"1\" class=\"dataframe\">\n",
       "  <thead>\n",
       "    <tr style=\"text-align: right;\">\n",
       "      <th></th>\n",
       "      <th>0</th>\n",
       "      <th>1</th>\n",
       "      <th>2</th>\n",
       "      <th>3</th>\n",
       "      <th>4</th>\n",
       "      <th>5</th>\n",
       "      <th>6</th>\n",
       "      <th>7</th>\n",
       "      <th>8</th>\n",
       "      <th>9</th>\n",
       "      <th>...</th>\n",
       "      <th>131</th>\n",
       "      <th>132</th>\n",
       "      <th>133</th>\n",
       "      <th>134</th>\n",
       "      <th>135</th>\n",
       "      <th>136</th>\n",
       "      <th>137</th>\n",
       "      <th>138</th>\n",
       "      <th>139</th>\n",
       "      <th>140</th>\n",
       "    </tr>\n",
       "  </thead>\n",
       "  <tbody>\n",
       "    <tr>\n",
       "      <th>0</th>\n",
       "      <td>-0.112522</td>\n",
       "      <td>-2.827204</td>\n",
       "      <td>-3.773897</td>\n",
       "      <td>-4.349751</td>\n",
       "      <td>-4.376041</td>\n",
       "      <td>-3.474986</td>\n",
       "      <td>-2.181408</td>\n",
       "      <td>-1.818286</td>\n",
       "      <td>-1.250522</td>\n",
       "      <td>-0.477492</td>\n",
       "      <td>...</td>\n",
       "      <td>0.792168</td>\n",
       "      <td>0.933541</td>\n",
       "      <td>0.796958</td>\n",
       "      <td>0.578621</td>\n",
       "      <td>0.257740</td>\n",
       "      <td>0.228077</td>\n",
       "      <td>0.123431</td>\n",
       "      <td>0.925286</td>\n",
       "      <td>0.193137</td>\n",
       "      <td>1.0</td>\n",
       "    </tr>\n",
       "    <tr>\n",
       "      <th>1</th>\n",
       "      <td>-1.100878</td>\n",
       "      <td>-3.996840</td>\n",
       "      <td>-4.285843</td>\n",
       "      <td>-4.506579</td>\n",
       "      <td>-4.022377</td>\n",
       "      <td>-3.234368</td>\n",
       "      <td>-1.566126</td>\n",
       "      <td>-0.992258</td>\n",
       "      <td>-0.754680</td>\n",
       "      <td>0.042321</td>\n",
       "      <td>...</td>\n",
       "      <td>0.538356</td>\n",
       "      <td>0.656881</td>\n",
       "      <td>0.787490</td>\n",
       "      <td>0.724046</td>\n",
       "      <td>0.555784</td>\n",
       "      <td>0.476333</td>\n",
       "      <td>0.773820</td>\n",
       "      <td>1.119621</td>\n",
       "      <td>-1.436250</td>\n",
       "      <td>1.0</td>\n",
       "    </tr>\n",
       "    <tr>\n",
       "      <th>2</th>\n",
       "      <td>-0.567088</td>\n",
       "      <td>-2.593450</td>\n",
       "      <td>-3.874230</td>\n",
       "      <td>-4.584095</td>\n",
       "      <td>-4.187449</td>\n",
       "      <td>-3.151462</td>\n",
       "      <td>-1.742940</td>\n",
       "      <td>-1.490659</td>\n",
       "      <td>-1.183580</td>\n",
       "      <td>-0.394229</td>\n",
       "      <td>...</td>\n",
       "      <td>0.886073</td>\n",
       "      <td>0.531452</td>\n",
       "      <td>0.311377</td>\n",
       "      <td>-0.021919</td>\n",
       "      <td>-0.713683</td>\n",
       "      <td>-0.532197</td>\n",
       "      <td>0.321097</td>\n",
       "      <td>0.904227</td>\n",
       "      <td>-0.421797</td>\n",
       "      <td>1.0</td>\n",
       "    </tr>\n",
       "    <tr>\n",
       "      <th>3</th>\n",
       "      <td>0.490473</td>\n",
       "      <td>-1.914407</td>\n",
       "      <td>-3.616364</td>\n",
       "      <td>-4.318823</td>\n",
       "      <td>-4.268016</td>\n",
       "      <td>-3.881110</td>\n",
       "      <td>-2.993280</td>\n",
       "      <td>-1.671131</td>\n",
       "      <td>-1.333884</td>\n",
       "      <td>-0.965629</td>\n",
       "      <td>...</td>\n",
       "      <td>0.350816</td>\n",
       "      <td>0.499111</td>\n",
       "      <td>0.600345</td>\n",
       "      <td>0.842069</td>\n",
       "      <td>0.952074</td>\n",
       "      <td>0.990133</td>\n",
       "      <td>1.086798</td>\n",
       "      <td>1.403011</td>\n",
       "      <td>-0.383564</td>\n",
       "      <td>1.0</td>\n",
       "    </tr>\n",
       "    <tr>\n",
       "      <th>4</th>\n",
       "      <td>0.800232</td>\n",
       "      <td>-0.874252</td>\n",
       "      <td>-2.384761</td>\n",
       "      <td>-3.973292</td>\n",
       "      <td>-4.338224</td>\n",
       "      <td>-3.802422</td>\n",
       "      <td>-2.534510</td>\n",
       "      <td>-1.783423</td>\n",
       "      <td>-1.594450</td>\n",
       "      <td>-0.753199</td>\n",
       "      <td>...</td>\n",
       "      <td>1.148884</td>\n",
       "      <td>0.958434</td>\n",
       "      <td>1.059025</td>\n",
       "      <td>1.371682</td>\n",
       "      <td>1.277392</td>\n",
       "      <td>0.960304</td>\n",
       "      <td>0.971020</td>\n",
       "      <td>1.614392</td>\n",
       "      <td>1.421456</td>\n",
       "      <td>1.0</td>\n",
       "    </tr>\n",
       "  </tbody>\n",
       "</table>\n",
       "<p>5 rows × 141 columns</p>\n",
       "</div>"
      ],
      "text/plain": [
       "        0         1         2         3         4         5         6    \\\n",
       "0 -0.112522 -2.827204 -3.773897 -4.349751 -4.376041 -3.474986 -2.181408   \n",
       "1 -1.100878 -3.996840 -4.285843 -4.506579 -4.022377 -3.234368 -1.566126   \n",
       "2 -0.567088 -2.593450 -3.874230 -4.584095 -4.187449 -3.151462 -1.742940   \n",
       "3  0.490473 -1.914407 -3.616364 -4.318823 -4.268016 -3.881110 -2.993280   \n",
       "4  0.800232 -0.874252 -2.384761 -3.973292 -4.338224 -3.802422 -2.534510   \n",
       "\n",
       "        7         8         9    ...       131       132       133       134  \\\n",
       "0 -1.818286 -1.250522 -0.477492  ...  0.792168  0.933541  0.796958  0.578621   \n",
       "1 -0.992258 -0.754680  0.042321  ...  0.538356  0.656881  0.787490  0.724046   \n",
       "2 -1.490659 -1.183580 -0.394229  ...  0.886073  0.531452  0.311377 -0.021919   \n",
       "3 -1.671131 -1.333884 -0.965629  ...  0.350816  0.499111  0.600345  0.842069   \n",
       "4 -1.783423 -1.594450 -0.753199  ...  1.148884  0.958434  1.059025  1.371682   \n",
       "\n",
       "        135       136       137       138       139  140  \n",
       "0  0.257740  0.228077  0.123431  0.925286  0.193137  1.0  \n",
       "1  0.555784  0.476333  0.773820  1.119621 -1.436250  1.0  \n",
       "2 -0.713683 -0.532197  0.321097  0.904227 -0.421797  1.0  \n",
       "3  0.952074  0.990133  1.086798  1.403011 -0.383564  1.0  \n",
       "4  1.277392  0.960304  0.971020  1.614392  1.421456  1.0  \n",
       "\n",
       "[5 rows x 141 columns]"
      ]
     },
     "execution_count": 30,
     "metadata": {},
     "output_type": "execute_result"
    }
   ],
   "source": [
    "dataframe = pd.read_csv('http://storage.googleapis.com/download.tensorflow.org/data/ecg.csv', header=None)\n",
    "raw_data = dataframe.values\n",
    "dataframe.head()"
   ]
  },
  {
   "cell_type": "code",
   "execution_count": 31,
   "id": "bf9802a3",
   "metadata": {},
   "outputs": [],
   "source": [
    "# last element is the labels\n",
    "labels = raw_data[:, -1]\n",
    "\n",
    "# remaining is the electrogram data\n",
    "data = raw_data[:, 0:-1]\n",
    "\n",
    "train_data, test_data, train_labels, test_labels = train_test_split(\n",
    "    data, labels, test_size=0.2, random_state=21)"
   ]
  },
  {
   "cell_type": "markdown",
   "id": "7f05f3d9",
   "metadata": {},
   "source": [
    "The datasets must be normalised to the range [0, 1] to improve training accuracy."
   ]
  },
  {
   "cell_type": "code",
   "execution_count": 32,
   "id": "12bb8945",
   "metadata": {},
   "outputs": [],
   "source": [
    "min_val = tf.reduce_min(train_data)\n",
    "max_val = tf.reduce_max(train_data)\n",
    "\n",
    "train_data = (train_data - min_val) / (max_val - min_val)\n",
    "test_data = (test_data - min_val) / (max_val - min_val)\n",
    "\n",
    "train_data = tf.cast(train_data, tf.float32)\n",
    "test_data = tf.cast(test_data, tf.float32)"
   ]
  },
  {
   "cell_type": "markdown",
   "id": "23b89281",
   "metadata": {},
   "source": [
    "We only want to train the autoencoder using normal rhythms so separate the normal and abnormal rhythms."
   ]
  },
  {
   "cell_type": "code",
   "execution_count": 33,
   "id": "aafce1ef",
   "metadata": {},
   "outputs": [],
   "source": [
    "train_labels = train_labels.astype(bool)\n",
    "test_labels = test_labels.astype(bool)\n",
    "\n",
    "normal_train_data = train_data[train_labels]\n",
    "normal_test_data = test_data[test_labels]\n",
    "\n",
    "anomalous_train_data = train_data[~train_labels]\n",
    "anomalous_test_data = test_data[~test_labels]"
   ]
  },
  {
   "cell_type": "markdown",
   "id": "0d09aab1",
   "metadata": {},
   "source": [
    "Plot a normalised ECG with normal rhythm. "
   ]
  },
  {
   "cell_type": "code",
   "execution_count": 34,
   "id": "e51823f6",
   "metadata": {},
   "outputs": [
    {
     "data": {
      "image/png": "[encoded data removed]",
      "text/plain": [
       "<Figure size 432x288 with 1 Axes>"
      ]
     },
     "metadata": {
      "needs_background": "light"
     },
     "output_type": "display_data"
    }
   ],
   "source": [
    "plt.grid()\n",
    "plt.plot(np.arange(140), normal_train_data[0])\n",
    "plt.title('A normal ECG')\n",
    "plt.show()"
   ]
  },
  {
   "cell_type": "markdown",
   "id": "95c06f3d",
   "metadata": {},
   "source": [
    "Plot a normalised ECG with anomalous rhythm."
   ]
  },
  {
   "cell_type": "code",
   "execution_count": 35,
   "id": "d9c91dff",
   "metadata": {},
   "outputs": [
    {
     "data": {
      "image/png": "[encoded data removed]",
      "text/plain": [
       "<Figure size 432x288 with 1 Axes>"
      ]
     },
     "metadata": {
      "needs_background": "light"
     },
     "output_type": "display_data"
    }
   ],
   "source": [
    "plt.grid()\n",
    "plt.plot(np.arange(140), anomalous_train_data[0])\n",
    "plt.title('A normal ECG')\n",
    "plt.show()"
   ]
  },
  {
   "cell_type": "markdown",
   "id": "b8b26e84",
   "metadata": {},
   "source": [
    "## Build model\n",
    "\n",
    "Build an autoencoder model to identify anomilous ECG results. An autoencoder architecture is such that it attempts to reconstruct the original input from a compressed representation of the input.\n",
    "\n",
    "![Autoencoder architecture](./resource/autoencoder-architecture.png)\n",
    "\n",
    "_Changing the size of the embedding (smallest layer) is worth playing around with._\n"
   ]
  },
  {
   "cell_type": "code",
   "execution_count": 36,
   "id": "443fe821",
   "metadata": {},
   "outputs": [],
   "source": [
    "class AnomalyDetector(Model):\n",
    "    def __init__(self):\n",
    "        super(AnomalyDetector, self).__init__()\n",
    "        \n",
    "        self.encoder = tf.keras.Sequential([\n",
    "            layers.Dense(32, activation='relu'),\n",
    "            layers.Dense(16, activation='relu'),\n",
    "            layers.Dense(8, activation='relu')\n",
    "        ])\n",
    "        \n",
    "        self.decoder = tf.keras.Sequential([\n",
    "            layers.Dense(16, activation='relu'),\n",
    "            layers.Dense(32, activation='relu'),\n",
    "            layers.Dense(140, activation='sigmoid')\n",
    "        ])\n",
    "    \n",
    "    def call(self, x):\n",
    "        encoded = self.encoder(x)\n",
    "        decoded = self.decoder(encoded)\n",
    "        return decoded\n",
    "    \n",
    "autoencoder = AnomalyDetector()\n",
    "autoencoder.compile(optimizer='adam', loss='mae')"
   ]
  },
  {
   "cell_type": "markdown",
   "id": "9cb9ce2b",
   "metadata": {},
   "source": [
    "## Train model\n",
    "\n",
    "The autoencoder is trained using only normal ECGs, but is evaluated using the full test set."
   ]
  },
  {
   "cell_type": "code",
   "execution_count": 37,
   "id": "086c0dbb",
   "metadata": {},
   "outputs": [
    {
     "name": "stdout",
     "output_type": "stream",
     "text": [
      "Epoch 1/20\n",
      "5/5 [==============================] - 1s 29ms/step - loss: 0.0575 - val_loss: 0.0532\n",
      "Epoch 2/20\n",
      "5/5 [==============================] - 0s 10ms/step - loss: 0.0549 - val_loss: 0.0522\n",
      "Epoch 3/20\n",
      "5/5 [==============================] - 0s 9ms/step - loss: 0.0515 - val_loss: 0.0507\n",
      "Epoch 4/20\n",
      "5/5 [==============================] - 0s 16ms/step - loss: 0.0479 - val_loss: 0.0484\n",
      "Epoch 5/20\n",
      "5/5 [==============================] - 0s 10ms/step - loss: 0.0444 - val_loss: 0.0468\n",
      "Epoch 6/20\n",
      "5/5 [==============================] - 0s 10ms/step - loss: 0.0413 - val_loss: 0.0448\n",
      "Epoch 7/20\n",
      "5/5 [==============================] - 0s 9ms/step - loss: 0.0385 - val_loss: 0.0433\n",
      "Epoch 8/20\n",
      "5/5 [==============================] - 0s 11ms/step - loss: 0.0361 - val_loss: 0.0422\n",
      "Epoch 9/20\n",
      "5/5 [==============================] - 0s 9ms/step - loss: 0.0339 - val_loss: 0.0408\n",
      "Epoch 10/20\n",
      "5/5 [==============================] - 0s 11ms/step - loss: 0.0319 - val_loss: 0.0397\n",
      "Epoch 11/20\n",
      "5/5 [==============================] - 0s 9ms/step - loss: 0.0302 - val_loss: 0.0388\n",
      "Epoch 12/20\n",
      "5/5 [==============================] - 0s 11ms/step - loss: 0.0289 - val_loss: 0.0378\n",
      "Epoch 13/20\n",
      "5/5 [==============================] - 0s 10ms/step - loss: 0.0278 - val_loss: 0.0371\n",
      "Epoch 14/20\n",
      "5/5 [==============================] - 0s 13ms/step - loss: 0.0268 - val_loss: 0.0365\n",
      "Epoch 15/20\n",
      "5/5 [==============================] - 0s 9ms/step - loss: 0.0259 - val_loss: 0.0359\n",
      "Epoch 16/20\n",
      "5/5 [==============================] - 0s 10ms/step - loss: 0.0252 - val_loss: 0.0353\n",
      "Epoch 17/20\n",
      "5/5 [==============================] - 0s 10ms/step - loss: 0.0245 - val_loss: 0.0348\n",
      "Epoch 18/20\n",
      "5/5 [==============================] - 0s 11ms/step - loss: 0.0238 - val_loss: 0.0342\n",
      "Epoch 19/20\n",
      "5/5 [==============================] - 0s 7ms/step - loss: 0.0232 - val_loss: 0.0333\n",
      "Epoch 20/20\n",
      "5/5 [==============================] - 0s 9ms/step - loss: 0.0226 - val_loss: 0.0327\n"
     ]
    }
   ],
   "source": [
    "history = autoencoder.fit(normal_train_data, \n",
    "                          normal_train_data, \n",
    "                          epochs=20, \n",
    "                          batch_size=512, \n",
    "                          validation_data=(test_data, test_data),\n",
    "                          shuffle=True)"
   ]
  },
  {
   "cell_type": "code",
   "execution_count": 38,
   "id": "d6690f26",
   "metadata": {},
   "outputs": [
    {
     "data": {
      "text/plain": [
       "<matplotlib.legend.Legend at 0x18e8f0880>"
      ]
     },
     "execution_count": 38,
     "metadata": {},
     "output_type": "execute_result"
    },
    {
     "data": {
      "image/png": "[encoded data removed]",
      "text/plain": [
       "<Figure size 432x288 with 1 Axes>"
      ]
     },
     "metadata": {
      "needs_background": "light"
     },
     "output_type": "display_data"
    }
   ],
   "source": [
    "plt.plot(history.history['loss'], label='Training Loss')\n",
    "plt.plot(history.history['val_loss'], label='Validation Loss')\n",
    "plt.legend()"
   ]
  },
  {
   "cell_type": "markdown",
   "id": "948427dc",
   "metadata": {},
   "source": [
    "## Evaluate training\n",
    "\n",
    "We can plot a normal ECG from the training set followed by its reconstruction after its encoded and decoded by the autoencoder. The area between these plots resembles the reconstruction error."
   ]
  },
  {
   "cell_type": "code",
   "execution_count": 39,
   "id": "b90afa76",
   "metadata": {},
   "outputs": [
    {
     "data": {
      "image/png": "[encoded data removed]",
      "text/plain": [
       "<Figure size 432x288 with 1 Axes>"
      ]
     },
     "metadata": {
      "needs_background": "light"
     },
     "output_type": "display_data"
    }
   ],
   "source": [
    "encoded_images = autoencoder.encoder(normal_test_data).numpy()\n",
    "decoded_images = autoencoder.decoder(encoded_images).numpy()\n",
    "\n",
    "plt.plot(normal_test_data[0], 'b')\n",
    "plt.plot(decoded_images[0], 'r')\n",
    "plt.fill_between(np.arange(140), decoded_images[0], normal_test_data[0], color='lightcoral')\n",
    "plt.legend(labels=['Input', 'Reconstruction', 'Error'])\n",
    "plt.show()"
   ]
  },
  {
   "cell_type": "markdown",
   "id": "46f6c873",
   "metadata": {},
   "source": [
    "Show a similar plot for anomilous data."
   ]
  },
  {
   "cell_type": "code",
   "execution_count": 40,
   "id": "f6438186",
   "metadata": {},
   "outputs": [
    {
     "data": {
      "image/png": "[encoded data removed]",
      "text/plain": [
       "<Figure size 432x288 with 1 Axes>"
      ]
     },
     "metadata": {
      "needs_background": "light"
     },
     "output_type": "display_data"
    }
   ],
   "source": [
    "encoded_images = autoencoder.encoder(anomalous_test_data).numpy()\n",
    "decoded_images = autoencoder.decoder(encoded_images).numpy()\n",
    "\n",
    "plt.plot(anomalous_test_data[0], 'b')\n",
    "plt.plot(decoded_images[0], 'r')\n",
    "plt.fill_between(np.arange(140), decoded_images[0], anomalous_test_data[0], color='lightcoral')\n",
    "plt.legend(labels=['Input', 'Reconstruction', 'Error'])\n",
    "plt.show()"
   ]
  },
  {
   "cell_type": "markdown",
   "id": "0dad66f9",
   "metadata": {},
   "source": [
    "## Detect anomalies\n",
    "\n",
    "We can calculate whether the reconstructioin loss is greater than a fixed threshold. In this example we choose to define anomalous results as being one standard deviation from the training set loss values."
   ]
  },
  {
   "cell_type": "code",
   "execution_count": 50,
   "id": "4efc6610",
   "metadata": {},
   "outputs": [
    {
     "name": "stdout",
     "output_type": "stream",
     "text": [
      "[0.02871504 0.01565396 0.02035884 ... 0.01401164 0.02425129 0.01916016]\n"
     ]
    },
    {
     "data": {
      "image/png": "[encoded data removed]",
      "text/plain": [
       "<Figure size 432x288 with 1 Axes>"
      ]
     },
     "metadata": {
      "needs_background": "light"
     },
     "output_type": "display_data"
    }
   ],
   "source": [
    "reconstructions = autoencoder.predict(normal_train_data)\n",
    "train_loss = tf.keras.losses.mae(reconstructions, normal_train_data).numpy()\n",
    "\n",
    "plt.hist(train_loss, bins=50)\n",
    "plt.xlabel('Train loss')\n",
    "plt.ylabel('No. examples')\n",
    "plt.show()"
   ]
  },
  {
   "cell_type": "markdown",
   "id": "aff570f9",
   "metadata": {},
   "source": [
    "Select a threshold value that is one standard deviation above the mean."
   ]
  },
  {
   "cell_type": "code",
   "execution_count": 51,
   "id": "12514f28",
   "metadata": {},
   "outputs": [
    {
     "name": "stdout",
     "output_type": "stream",
     "text": [
      "Threshold:  0.03299389\n"
     ]
    }
   ],
   "source": [
    "threshold = np.mean(train_loss) + np.std(train_loss)\n",
    "print('Threshold: ', threshold)"
   ]
  },
  {
   "cell_type": "markdown",
   "id": "bbeb233b",
   "metadata": {},
   "source": [
    "_Other strategies exist for the threshold value. These will be explored later. By varying the threshold value one can adjust the precision and recall of a classifier._"
   ]
  },
  {
   "cell_type": "code",
   "execution_count": 54,
   "id": "17d9657d",
   "metadata": {},
   "outputs": [
    {
     "data": {
      "image/png": "[encoded data removed]",
      "text/plain": [
       "<Figure size 432x288 with 1 Axes>"
      ]
     },
     "metadata": {
      "needs_background": "light"
     },
     "output_type": "display_data"
    }
   ],
   "source": [
    "reconstructions = autoencoder.predict(anomalous_test_data)\n",
    "test_loss = tf.keras.losses.mae(reconstructions, anomalous_test_data).numpy()\n",
    "\n",
    "plt.hist(test_loss, bins=50)\n",
    "plt.xlabel('Train loss')\n",
    "plt.ylabel('No. examples')\n",
    "plt.show()"
   ]
  },
  {
   "cell_type": "markdown",
   "id": "a2309d46",
   "metadata": {},
   "source": [
    "Classify an ECG as an anomaly if the reconstruction error is greater than the threshold."
   ]
  },
  {
   "cell_type": "code",
   "execution_count": 56,
   "id": "9d3e883d",
   "metadata": {},
   "outputs": [
    {
     "name": "stdout",
     "output_type": "stream",
     "text": [
      "Accuracy: 0.942\n",
      "Precision: 0.9921568627450981\n",
      "Recall: 0.9035714285714286\n"
     ]
    }
   ],
   "source": [
    "def predict(model, data, threshold):\n",
    "    reconstructions = model(data)\n",
    "    loss = tf.keras.losses.mae(reconstructions, data)\n",
    "    return tf.math.less(loss, threshold), loss\n",
    "\n",
    "def print_stats(predictions, labels):\n",
    "    print(f'Accuracy: {accuracy_score(labels, predictions)}')\n",
    "    print(f'Precision: {precision_score(labels, predictions)}')\n",
    "    print(f'Recall: {recall_score(labels, predictions)}')\n",
    "    \n",
    "preds, scores = predict(autoencoder, test_data, threshold)\n",
    "print_stats(preds, test_labels)"
   ]
  },
  {
   "cell_type": "markdown",
   "id": "676d0308",
   "metadata": {},
   "source": [
    "## ROC and AUC metrics\n",
    "\n",
    "In its current form, the accuracy of the model is highly dependent on the threshold that has been selected. Enter Receiver Operating Characteristic (ROC) plots allow different threshold impacts upon accuracy to be visualised."
   ]
  },
  {
   "cell_type": "code",
   "execution_count": 57,
   "id": "4aa37a50",
   "metadata": {},
   "outputs": [
    {
     "data": {
      "image/png": "[encoded data removed]",
      "text/plain": [
       "<Figure size 432x288 with 1 Axes>"
      ]
     },
     "metadata": {
      "needs_background": "light"
     },
     "output_type": "display_data"
    }
   ],
   "source": [
    "false_positive_rate = []\n",
    "true_positive_rate = []\n",
    "\n",
    "flipped_labels = 1 - test_labels  # because anomalies are labeled with 1.\n",
    "false_positive_rate, true_positive_rate, _ = roc_curve(flipped_labels, scores)\n",
    "\n",
    "plt.figure()\n",
    "plt.plot(false_positive_rate, true_positive_rate, color='darkorange', label='ROC curve')\n",
    "plt.plot([0, 1], [0, 1], color='navy', lw=2, linestyle='--')\n",
    "plt.xlim([0.0, 1.0])\n",
    "plt.ylim([0.0, 1.05])\n",
    "plt.xlabel('False positive rate')\n",
    "plt.ylabel('True positive rate')\n",
    "plt.title('ROC')\n",
    "plt.legend(loc='lower right')\n",
    "plt.show()"
   ]
  },
  {
   "cell_type": "markdown",
   "id": "e4c74872",
   "metadata": {},
   "source": [
    "Since the threshold value is subjective, we may want to compare models without factoring in this value. We can do this by measuring the area under the curve (AUC) in the ROC plot."
   ]
  },
  {
   "cell_type": "code",
   "execution_count": 58,
   "id": "a994430a",
   "metadata": {},
   "outputs": [
    {
     "name": "stdout",
     "output_type": "stream",
     "text": [
      "0.9546185064935064\n"
     ]
    }
   ],
   "source": [
    "roc_auc = auc(false_positive_rate, true_positive_rate)\n",
    "print(roc_auc)"
   ]
  }
 ],
 "metadata": {
  "kernelspec": {
   "display_name": "Python 3",
   "language": "python",
   "name": "python3"
  },
  "language_info": {
   "codemirror_mode": {
    "name": "ipython",
    "version": 3
   },
   "file_extension": ".py",
   "mimetype": "text/x-python",
   "name": "python",
   "nbconvert_exporter": "python",
   "pygments_lexer": "ipython3",
   "version": "3.9.5"
  }
 },
 "nbformat": 4,
 "nbformat_minor": 5
}
