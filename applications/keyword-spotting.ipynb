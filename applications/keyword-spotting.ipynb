{
 "cells": [
  {
   "cell_type": "markdown",
   "id": "edb17474",
   "metadata": {},
   "source": [
    "# Keyword spotting pre-trained model\n",
    "This notebook designs a pipeline for spotting the keywords \"yes\" and \"no\". Note: the model isn't as accurate as 'state-of-the-art' as it must be small enough to fit on an embedded device."
   ]
  },
  {
   "cell_type": "code",
   "execution_count": 103,
   "id": "c1ebaf85",
   "metadata": {},
   "outputs": [
    {
     "name": "stdout",
     "output_type": "stream",
     "text": [
      "Eager: True\n"
     ]
    }
   ],
   "source": [
    "import os\n",
    "import pathlib\n",
    "\n",
    "import tensorflow as tf\n",
    "import tensorflow_io as tfio\n",
    "import librosa\n",
    "import matplotlib.pyplot as plt\n",
    "from matplotlib import cm\n",
    "import numpy as np\n",
    "import pickle\n",
    "\n",
    "from tensorflow.keras.layers.experimental import preprocessing\n",
    "from tensorflow.keras import layers\n",
    "from tensorflow.keras import models"
   ]
  },
  {
   "cell_type": "markdown",
   "id": "8c8d894a",
   "metadata": {},
   "source": [
    "## Import speech commands dataset\n",
    "This dataset contains over 105,000 WAV audio files of people saying thirty different words. A portion of the dataset will be used to train the model."
   ]
  },
  {
   "cell_type": "code",
   "execution_count": 51,
   "id": "09f45fbd",
   "metadata": {},
   "outputs": [
    {
     "name": "stdout",
     "output_type": "stream",
     "text": [
      "Eager: True\n"
     ]
    }
   ],
   "source": [
    "data_dir = pathlib.Path('data/mini_speech_commands')\n",
    "if not data_dir.exists():\n",
    "    tf.keras.utils.get_file(\n",
    "        'mini_speech_commands.zip',\n",
    "        origin='http://storage.googleapis.com/download.tensorflow.org/data/mini_speech_commands.zip',\n",
    "        extract=True,\n",
    "        cache_dir='.', cache_subdir='data')"
   ]
  },
  {
   "cell_type": "markdown",
   "id": "5302a63e",
   "metadata": {},
   "source": [
    "Check the dataset."
   ]
  },
  {
   "cell_type": "code",
   "execution_count": 52,
   "id": "8b079970",
   "metadata": {},
   "outputs": [
    {
     "name": "stdout",
     "output_type": "stream",
     "text": [
      "Commands: ['right' 'go' 'no' 'left' 'stop' 'up' 'down' 'yes']\n",
      "Eager: True\n"
     ]
    }
   ],
   "source": [
    "commands = np.array(tf.io.gfile.listdir(str(data_dir)))\n",
    "commands = commands[commands != 'README.md']\n",
    "print('Commands:', commands)"
   ]
  },
  {
   "cell_type": "markdown",
   "id": "4cf13b31",
   "metadata": {},
   "source": [
    "Extract audio and shuffle."
   ]
  },
  {
   "cell_type": "code",
   "execution_count": 53,
   "id": "bbf8a16a",
   "metadata": {},
   "outputs": [
    {
     "name": "stdout",
     "output_type": "stream",
     "text": [
      "Number of total examples: 8000\n",
      "Number of examples per label: 1000\n",
      "Example file tensor: tf.Tensor(b'data/mini_speech_commands/right/214ccb20_nohash_0.wav', shape=(), dtype=string)\n",
      "Eager: True\n"
     ]
    }
   ],
   "source": [
    "filenames = tf.io.gfile.glob(str(data_dir) + '/*/*')\n",
    "filenames = tf.random.shuffle(filenames)\n",
    "num_samples = len(filenames)\n",
    "print('Number of total examples:', num_samples)\n",
    "print('Number of examples per label:', \n",
    "      len(tf.io.gfile.listdir(str(data_dir/commands[0]))))\n",
    "print('Example file tensor:', filenames[0])"
   ]
  },
  {
   "cell_type": "markdown",
   "id": "fccc7599",
   "metadata": {},
   "source": [
    "## Create training, validation and test datasets\n",
    "Uses an 80:10:10 ratio."
   ]
  },
  {
   "cell_type": "code",
   "execution_count": 54,
   "id": "8626ec3f",
   "metadata": {},
   "outputs": [
    {
     "name": "stdout",
     "output_type": "stream",
     "text": [
      "Training set size 6400\n",
      "Validation set size 800\n",
      "Test set size 800\n",
      "Eager: True\n"
     ]
    }
   ],
   "source": [
    "train_files = filenames[:6400]\n",
    "val_files = filenames[6400: 6400+800]\n",
    "test_files = filenames[-800:]\n",
    "\n",
    "print('Training set size', len(train_files))\n",
    "print('Validation set size', len(val_files))\n",
    "print('Test set size', len(test_files))\n",
    "print(\"Eager:\", tf.executing_eagerly())"
   ]
  },
  {
   "cell_type": "markdown",
   "id": "63d8e359",
   "metadata": {},
   "source": [
    "## Read audio files and associated labels\n",
    "We need to convert a WAV-encoded binary audio file to a numerical tensor. `tf.audio.decode_wav` will normalize the values to the range [-1.0, 1.0]. Below is a series of utility functions for performing this conversion along with extracting the associated label."
   ]
  },
  {
   "cell_type": "code",
   "execution_count": 69,
   "id": "5f505507",
   "metadata": {},
   "outputs": [],
   "source": [
    "def decode_audio(audio_binary):\n",
    "    \"\"\"Convert binary to normalized tensor.\"\"\"\n",
    "    audio, _ = tf.audio.decode_wav(audio_binary)\n",
    "    return tf.squeeze(audio, axis=-1)\n",
    "\n",
    "def get_label(file_path):\n",
    "    \"\"\"Get the label associated with the audio file.\"\"\"\n",
    "    parts = tf.strings.split(file_path, os.path.sep)\n",
    "    return parts[-2]\n",
    "\n",
    "def get_waveform_and_label(file_path):\n",
    "    \"\"\"Get a tuple of audio binary and labels.\"\"\"\n",
    "    label = get_label(file_path)\n",
    "    audio_binary = tf.io.read_file(file_path)\n",
    "    waveform = decode_audio(audio_binary)\n",
    "    return waveform, label"
   ]
  },
  {
   "cell_type": "markdown",
   "id": "22e48670",
   "metadata": {},
   "source": [
    "## Create and preprocess datasets\n",
    "As previously shown we need to convert the waveforms to Mel Scale Spectrograms."
   ]
  },
  {
   "cell_type": "code",
   "execution_count": 135,
   "id": "f5d5bc57",
   "metadata": {},
   "outputs": [],
   "source": [
    "def get_mel_spectrogram(audio):\n",
    "    \"\"\"Get Mel Scale Spectrogram image from waveform.\"\"\"\n",
    "    # Pad for files with less than 16000 samples.\n",
    "    audio = audio.numpy()\n",
    "    np.pad(audio, (16000,), 'constant', constant_values=0)\n",
    "    \n",
    "    mel_spectrogram = librosa.feature.melspectrogram(audio,\n",
    "                                                     sr=16000,\n",
    "                                                     n_fft=2048,\n",
    "                                                     hop_length=64,\n",
    "                                                     n_mels=128)\n",
    "    mfcc = librosa.power_to_db(mel_spectrogram, ref=np.max)\n",
    "    return mfcc\n",
    "\n",
    "def get_spectrogram_and_label_id(audio, label):\n",
    "    \"\"\"Preprocess audio sample and label.\"\"\"\n",
    "    mel_spectrogram = get_mel_spectrogram(audio)\n",
    "    mel_spectrogram = tf.expand_dims(mel_spectrogram, -1)\n",
    "    label_id = tf.argmax(label == commands)\n",
    "    return mel_spectrogram, label_id\n",
    "\n",
    "def preprocess_dataset(files):\n",
    "    \"\"\"Create dataset from provided files.\"\"\"\n",
    "    files_ds = tf.data.Dataset.from_tensor_slices(files)\n",
    "    output_ds = files_ds.map(get_waveform_and_label, \n",
    "                             num_parallel_calls=tf.data.AUTOTUNE)\n",
    "    # Trick to force eager execution of function.\n",
    "    # Allows numpy code to be executed. This is likely\n",
    "    # not a good way to do it.\n",
    "    py_func = lambda x, y: tf.py_function(get_spectrogram_and_label_id, \n",
    "                                       [x, y], \n",
    "                                       [tf.float32, tf.int64])\n",
    "    output_ds = output_ds.map(py_func, \n",
    "                              num_parallel_calls=tf.data.AUTOTUNE)\n",
    "    return output_ds\n",
    "\n",
    "train_ds = preprocess_dataset(train_files)\n",
    "val_ds = preprocess_dataset(val_files)\n",
    "test_ds = preprocess_dataset(test_files)"
   ]
  },
  {
   "cell_type": "markdown",
   "id": "00c79782",
   "metadata": {},
   "source": [
    "## Show sample of data"
   ]
  },
  {
   "cell_type": "code",
   "execution_count": 137,
   "id": "26f2c665",
   "metadata": {},
   "outputs": [
    {
     "data": {
      "image/png": "[encoded data removed]",
      "text/plain": [
       "<Figure size 432x288 with 1 Axes>"
      ]
     },
     "metadata": {
      "needs_background": "light"
     },
     "output_type": "display_data"
    }
   ],
   "source": [
    "for mfcc, label in train_ds.take(3):\n",
    "    mfcc = mfcc.numpy()\n",
    "    plt.imshow(np.swapaxes(mfcc, 0, 1),\n",
    "               interpolation='nearest',\n",
    "               cmap=cm.viridis,\n",
    "               origin='lower',\n",
    "               aspect='auto')\n",
    "    plt.suptitle('Mel Scale Spectrogram of Audio Sample')\n",
    "    plt.gca().invert_yaxis()"
   ]
  },
  {
   "cell_type": "code",
   "execution_count": null,
   "id": "28bbf10b",
   "metadata": {},
   "outputs": [],
   "source": []
  }
 ],
 "metadata": {
  "kernelspec": {
   "display_name": "Python 3",
   "language": "python",
   "name": "python3"
  },
  "language_info": {
   "codemirror_mode": {
    "name": "ipython",
    "version": 3
   },
   "file_extension": ".py",
   "mimetype": "text/x-python",
   "name": "python",
   "nbconvert_exporter": "python",
   "pygments_lexer": "ipython3",
   "version": "3.9.5"
  }
 },
 "nbformat": 4,
 "nbformat_minor": 5
}
