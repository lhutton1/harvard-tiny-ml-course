{
 "metadata": {
  "language_info": {
   "codemirror_mode": {
    "name": "ipython",
    "version": 3
   },
   "file_extension": ".py",
   "mimetype": "text/x-python",
   "name": "python",
   "nbconvert_exporter": "python",
   "pygments_lexer": "ipython3",
   "version": 3
  },
  "orig_nbformat": 2
 },
 "nbformat": 4,
 "nbformat_minor": 2,
 "cells": [
  {
   "cell_type": "code",
   "execution_count": null,
   "metadata": {},
   "outputs": [],
   "source": [
    "import math\n",
    "\n",
    "# Calculating loss while guessing linear function (y=wx+b)\n",
    "x = [-1, 0, 1, 2, 3, 4]\n",
    "true_y = [-3, -1, 1, 3, 5, 7]\n",
    "my_y = []\n",
    "\n",
    "# Guess w and b\n",
    "w, b = 3, -1\n",
    "\n",
    "for x_item in x:\n",
    "    y_item = (w * x_item) + b\n",
    "    my_y.append(y_item)\n",
    "\n",
    "print(\"True Y is:\", str(true_y))\n",
    "print(\"My Y is:\", str(my_y))\n",
    "\n",
    "# Calculate MSE loss\n",
    "error_squared = 0\n",
    "\n",
    "for i in range(len(y)):\n",
    "    squared = (true_y[i] - my_y[i]) ** 2\n",
    "    error_squared += squared\n",
    "\n",
    "print(\"Total loss:\", str(math.sqrt(error_squared)))"
   ]
  },
  {
   "cell_type": "code",
   "execution_count": null,
   "metadata": {},
   "outputs": [],
   "source": []
  }
 ]
}