{
 "metadata": {
  "language_info": {
   "codemirror_mode": {
    "name": "ipython",
    "version": 3
   },
   "file_extension": ".py",
   "mimetype": "text/x-python",
   "name": "python",
   "nbconvert_exporter": "python",
   "pygments_lexer": "ipython3",
   "version": 3
  },
  "orig_nbformat": 2
 },
 "nbformat": 4,
 "nbformat_minor": 2,
 "cells": [
  {
   "source": [
    "# Linear Regression Model\n",
    "\n",
    "Using TensorFlow a linear regression model is created to predict a linear function from input training data."
   ],
   "cell_type": "markdown",
   "metadata": {}
  },
  {
   "cell_type": "code",
   "execution_count": null,
   "metadata": {},
   "outputs": [],
   "source": [
    "import tensorflow as tf\n",
    "import numpy as np\n",
    "from tensorflow.keras import Sequential\n",
    "from tensorflow.keras.layers import Dense\n",
    "\n",
    "%matplotlib inline\n",
    "import matplotlib.pyplot as plt\n",
    "\n",
    "# Initialise training data\n",
    "input_x = np.array([-1.0, 0.0, 1.0, 2.0, 3.0, 4.0], dtype=float)\n",
    "input_y = np.array([-3.0, -1.0, 1.0, 3.0, 5.0, 7.0], dtype=float)\n",
    "\n",
    "# Log predictions as epochs increase during training\n",
    "predictions = []\n",
    "class PredictionCallback(tf.keras.callbacks.Callback):\n",
    "    def on_epoch_end(self, epoch, logs={}):\n",
    "        predictions.append(model.predict(input_x))\n",
    "callbacks = [PredictionCallback()]"
   ]
  },
  {
   "cell_type": "code",
   "execution_count": null,
   "metadata": {},
   "outputs": [],
   "source": [
    "# Define model and train\n",
    "model = Sequential([Dense(units=1, input_shape=[1])])\n",
    "model.compile(optimizer='sgd', loss='mean_squared_error')\n",
    "model.fit(input_x, input_y, epochs=300, callbacks=callbacks, verbose=2)"
   ]
  },
  {
   "cell_type": "code",
   "execution_count": null,
   "metadata": {},
   "outputs": [],
   "source": [
    "# Plot results\n",
    "epoch_intervals = [1, 25, 50, 150, 300]\n",
    "plt.plot(input_x, input_y, label=\"True Datapoints\")\n",
    "for epoch in epoch_intervals:\n",
    "    plt.plot(input_x, predictions[epoch-1], label=f'Epoch: {epoch}')\n",
    "plt.legend()\n",
    "plt.show()"
   ]
  },
  {
   "source": [
    "## Multi-layer network\n",
    "\n",
    "While a multi-layer network might not be essential for this type of problem, a basic 2-layer network is shown below."
   ],
   "cell_type": "markdown",
   "metadata": {}
  },
  {
   "cell_type": "code",
   "execution_count": null,
   "metadata": {},
   "outputs": [],
   "source": [
    "# Define 2-layer model\n",
    "model = Sequential([\n",
    "    Dense(units=2, input_shape=[1]),\n",
    "    Dense(units=1)\n",
    "])\n",
    "model.compile(optimizer='sgd', loss='mean_squared_error')\n",
    "\n",
    "predictions = []\n",
    "model.fit(input_x, input_y, epochs=500, callbacks=callbacks\n",
    ")"
   ]
  },
  {
   "cell_type": "code",
   "execution_count": null,
   "metadata": {},
   "outputs": [],
   "source": [
    "# Output predictions\n",
    "epoch_intervals = [1, 25, 50, 150, 300, 500]\n",
    "plt.plot(input_x, input_y, label=\"True Datapoints\")\n",
    "for epoch in epoch_intervals:\n",
    "    plt.plot(input_x, predictions[epoch-1], label=f'Epoch: {epoch}')\n",
    "plt.legend()\n",
    "plt.show()"
   ]
  }
 ]
}