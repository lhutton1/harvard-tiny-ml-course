{
 "cells": [
  {
   "source": [
    "# Loss functions\n",
    "\n",
    "This notebook explores the use of loss functions and how they are minimised."
   ],
   "cell_type": "markdown",
   "metadata": {}
  },
  {
   "source": [
    "## Measuring accuracy\n",
    "\n",
    "Loss functions can be used to measure accuracy of a guess."
   ],
   "cell_type": "markdown",
   "metadata": {}
  },
  {
   "cell_type": "code",
   "execution_count": null,
   "metadata": {},
   "outputs": [],
   "source": [
    "import math\n",
    "\n",
    "# Calculating loss while guessing linear function (y=wx+b)\n",
    "x = [-1, 0, 1, 2, 3, 4]\n",
    "true_y = [-3, -1, 1, 3, 5, 7]\n",
    "my_y = []\n",
    "\n",
    "# Guess w and b\n",
    "w, b = 3, -1\n",
    "\n",
    "for x_item in x:\n",
    "    y_item = (w * x_item) + b\n",
    "    my_y.append(y_item)\n",
    "\n",
    "print(\"True Y is:\", str(true_y))\n",
    "print(\"My Y is:\", str(my_y))\n",
    "\n",
    "# Calculate MSE loss\n",
    "error_squared = 0\n",
    "\n",
    "for i in range(len(true_y)):\n",
    "    squared = (true_y[i] - my_y[i]) ** 2\n",
    "    error_squared += squared\n",
    "\n",
    "print(\"Total loss:\", str(math.sqrt(error_squared)))"
   ]
  },
  {
   "source": [
    "## Minimising loss with gradient descent\n",
    "\n",
    "Here TensorFlow is used to perform gradient descent to minimise the loss of the guess."
   ],
   "cell_type": "markdown",
   "metadata": {}
  },
  {
   "cell_type": "code",
   "execution_count": null,
   "metadata": {},
   "outputs": [],
   "source": [
    "import tensorflow as tf\n",
    "import numpy as np\n",
    "\n",
    "%matplotlib inline\n",
    "import matplotlib.pyplot as plt"
   ]
  },
  {
   "cell_type": "code",
   "execution_count": null,
   "metadata": {},
   "outputs": [],
   "source": [
    "initial_w = 10.0\n",
    "initial_b = 10.0\n",
    "\n",
    "# Define loss function to use\n",
    "def loss(predicted_y, target_y):\n",
    "    return tf.reduce_mean(tf.square(predicted_y - target_y))\n",
    "\n",
    "# Define training pipeline\n",
    "def train(model, inputs, outputs, learning_rate):\n",
    "    with tf.GradientTape() as t:\n",
    "        current_loss = loss(model(inputs), outputs)\n",
    "        dw, db = t.gradient(current_loss, [model.w, model.b])\n",
    "        model.w.assign_sub(learning_rate * dw)\n",
    "        model.b.assign_sub(learning_rate * db)\n",
    "        return current_loss\n",
    "\n",
    "# Define linear regression model\n",
    "class Model:\n",
    "    def __init__(self):\n",
    "        self.w = tf.Variable(initial_w)\n",
    "        self.b = tf.Variable(initial_b)\n",
    "\n",
    "    def __call__(self, x):\n",
    "        return self.w * x + self.b\n",
    "\n",
    "# Train model with training data\n",
    "input_x = [-1.0, 0.0, 1.0, 2.0, 3.0, 4.0]\n",
    "input_y = [-3.0, -1.0, 1.0, 3.0, 5.0, 7.0]\n",
    "learning_rate = 0.09\n",
    "\n",
    "model = Model()\n",
    "\n",
    "w, b = [], []\n",
    "losses = []\n",
    "epochs = range(50)\n",
    "for epoch in epochs:\n",
    "    w.append(model.w.numpy())\n",
    "    b.append(model.b.numpy())\n",
    "    current_loss = train(model, input_x, input_y, learning_rate=learning_rate)\n",
    "    losses.append(current_loss)\n",
    "    print(f'Epoch {epoch}: w={w[-1]:.2f} b={b[-1]:.2f}, loss={current_loss}')"
   ]
  },
  {
   "cell_type": "code",
   "execution_count": null,
   "metadata": {},
   "outputs": [],
   "source": [
    "true_w = 2.0\n",
    "true_b = -1.0\n",
    "plt.plot(epochs, w, 'r', epochs, b, 'b')\n",
    "plt.plot([true_w] * len(epochs), 'r--', [true_b] * len(epochs), 'b--')\n",
    "plt.legend(['w', 'b', 'True w', 'True b'])\n",
    "plt.show()"
   ]
  }
 ],
 "metadata": {
  "kernelspec": {
   "display_name": "Python 3",
   "language": "python",
   "name": "python3"
  },
  "language_info": {
   "codemirror_mode": {
    "name": "ipython",
    "version": 3
   },
   "file_extension": ".py",
   "mimetype": "text/x-python",
   "name": "python",
   "nbconvert_exporter": "python",
   "pygments_lexer": "ipython3",
   "version": "3.9.5"
  }
 },
 "nbformat": 4,
 "nbformat_minor": 2
}