{
 "metadata": {
  "language_info": {
   "codemirror_mode": {
    "name": "ipython",
    "version": 3
   },
   "file_extension": ".py",
   "mimetype": "text/x-python",
   "name": "python",
   "nbconvert_exporter": "python",
   "pygments_lexer": "ipython3",
   "version": 3
  },
  "orig_nbformat": 2
 },
 "nbformat": 4,
 "nbformat_minor": 2,
 "cells": [
  {
   "source": [
    "# Uses a Deep Neural Network (DNN) to learn the MNIST drawn numbers dataset\n",
    "\n",
    "This guide uses a DNN to learn a representation of the MNIST dataset. In doing so it is possible to predict hand drawn numbers based on an input image."
   ],
   "cell_type": "markdown",
   "metadata": {}
  },
  {
   "cell_type": "code",
   "execution_count": null,
   "metadata": {},
   "outputs": [],
   "source": [
    "import tensorflow as tf\n",
    "\n",
    "# Retrieve training data from MNIST dataset\n",
    "mnist_data = tf.keras.datasets.mnist\n",
    "(training_images, training_labels), (val_images, val_labels) = mnist_data.load_data()\n",
    "training_images = training_images / 255.0\n",
    "val_images = val_images / 255.0\n",
    "\n",
    "# Initialise model\n",
    "model = tf.keras.models.Sequential([\n",
    "    tf.keras.layers.Flatten(input_shape=(28, 28)),\n",
    "    tf.keras.layers.Dense(20, activation=tf.nn.relu),\n",
    "    tf.keras.layers.Dense(10, activation=tf.nn.softmax)\n",
    "])\n",
    "model.compile(optimizer='adam',\n",
    "              loss='sparse_categorical_crossentropy',\n",
    "              metrics=['accuracy'])\n",
    "model.fit(training_images, \n",
    "          training_labels,\n",
    "          epochs=20,\n",
    "          validation_data=(val_images, val_labels))"
   ]
  },
  {
   "cell_type": "code",
   "execution_count": null,
   "metadata": {},
   "outputs": [],
   "source": [
    "# Test model on a validation dataset\n",
    "model.evaluate(val_images, val_labels)\n",
    "classifications = model.predict(val_images)\n",
    "\n",
    "# Determine correct number of predictions with validation dataset\n",
    "correct_predictions = 0\n",
    "predictions = []\n",
    "for classification, val_label in zip(classifications, val_labels):\n",
    "    prediction = classification.argmax()\n",
    "    predictions.append(prediction)\n",
    "    correct_predictions += prediction == val_label\n",
    "\n",
    "# Check model is outputting correct prediction for first image\n",
    "first_classification, first_label = classifications[0], val_labels[0]\n",
    "print(f'Initial image prediction: {predictions[0]}, Actual: {val_labels[0]}')\n",
    "\n",
    "# Find accuracy of model over dataset\n",
    "print(f'Accuracy on validation dataset: {(correct_predictions / len(val_labels)) * 100}%')"
   ]
  }
 ]
}